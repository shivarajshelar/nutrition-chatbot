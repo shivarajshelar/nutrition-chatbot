{
 "cells": [
  {
   "cell_type": "code",
   "execution_count": 2,
   "id": "183cf5aa",
   "metadata": {},
   "outputs": [],
   "source": [
    "import glob\n",
    "from langchain_community.document_loaders import PyPDFLoader\n",
    "from langchain_community.document_loaders import PyMuPDFLoader\n",
    "\n"
   ]
  },
  {
   "cell_type": "code",
   "execution_count": 3,
   "id": "fd1f89cc",
   "metadata": {},
   "outputs": [],
   "source": [
    "all_pdf_file = glob.glob(r'pdf_data\\\\*.pdf')\n",
    "docs = []\n",
    "\n",
    "for pdf in all_pdf_file:\n",
    "    loader = PyMuPDFLoader(pdf)\n",
    "    docs.extend(loader.load())\n"
   ]
  },
  {
   "cell_type": "code",
   "execution_count": 4,
   "id": "99276717",
   "metadata": {},
   "outputs": [
    {
     "name": "stdout",
     "output_type": "stream",
     "text": [
      "\n",
      "DIETARY GUIDELINES \n",
      "FOR INDIANS\n",
      "-A Manual \n",
      "NATIONAL INSTITUTE OF NUTRITION\n",
      "Hyderabad – 500 007, INDIA\n"
     ]
    }
   ],
   "source": [
    "for i , page in enumerate(docs):\n",
    "    if i < 2:\n",
    "        print(page.page_content)\n",
    "    \n"
   ]
  },
  {
   "cell_type": "code",
   "execution_count": 5,
   "id": "d023b128",
   "metadata": {},
   "outputs": [],
   "source": [
    "from langchain.text_splitter import RecursiveCharacterTextSplitter\n",
    "\n",
    "text_splitter = RecursiveCharacterTextSplitter(chunk_size = 2000 , chunk_overlap=10)"
   ]
  },
  {
   "cell_type": "code",
   "execution_count": 6,
   "id": "b9773aef",
   "metadata": {},
   "outputs": [
    {
     "data": {
      "text/plain": [
       "[Document(metadata={'producer': 'eDocument Library version 2.6 PDF Filter', 'creator': 'Corel PDF Fusion v1.0', 'creationdate': '2012-05-08T15:10:52+05:30', 'source': 'pdf_data\\\\DietaryGuidelinesforNINwebsite.pdf', 'file_path': 'pdf_data\\\\DietaryGuidelinesforNINwebsite.pdf', 'total_pages': 139, 'format': 'PDF 1.5', 'title': '', 'author': '', 'subject': '', 'keywords': '', 'moddate': '2012-08-13T11:30:02+05:30', 'trapped': '', 'modDate': \"D:20120813113002+05'30'\", 'creationDate': \"D:20120508151052+05'30'\", 'page': 1}, page_content='DIETARY GUIDELINES \\nFOR INDIANS\\n-A Manual \\nNATIONAL INSTITUTE OF NUTRITION\\nHyderabad – 500 007, INDIA'),\n",
       " Document(metadata={'producer': 'eDocument Library version 2.6 PDF Filter', 'creator': 'Corel PDF Fusion v1.0', 'creationdate': '2012-05-08T15:10:52+05:30', 'source': 'pdf_data\\\\DietaryGuidelinesforNINwebsite.pdf', 'file_path': 'pdf_data\\\\DietaryGuidelinesforNINwebsite.pdf', 'total_pages': 139, 'format': 'PDF 1.5', 'title': '', 'author': '', 'subject': '', 'keywords': '', 'moddate': '2012-08-13T11:30:02+05:30', 'trapped': '', 'modDate': \"D:20120813113002+05'30'\", 'creationDate': \"D:20120508151052+05'30'\", 'page': 2}, page_content='First Published                 .....           1998\\nReprinted                         .....           1999, 2003, 2005, 2007\\nSecond Edition                .....            2011\\nATTENTION  READERS\\nReaders can download the soft copy of the “Dietary Guidelines \\nfor Indians” free of cost for their own use and also for \\ndissemination of information for  the benefit of the society on non-\\nprofit basis. Readers are not supposed to either reproduce / copy / \\nreprint the same for commercial purpose. If the information is used \\nin some context, the source of information with proper \\nacknowledgement to the National Institute of Nutrition, \\nHyderabad should be mentioned. Usage of the information should \\nbe intimated to the Director, NIN in advance and approval should \\nbe sought. All copyrights are reserved with NIN.'),\n",
       " Document(metadata={'producer': 'eDocument Library version 2.6 PDF Filter', 'creator': 'Corel PDF Fusion v1.0', 'creationdate': '2012-05-08T15:10:52+05:30', 'source': 'pdf_data\\\\DietaryGuidelinesforNINwebsite.pdf', 'file_path': 'pdf_data\\\\DietaryGuidelinesforNINwebsite.pdf', 'total_pages': 139, 'format': 'PDF 1.5', 'title': '', 'author': '', 'subject': '', 'keywords': '', 'moddate': '2012-08-13T11:30:02+05:30', 'trapped': '', 'modDate': \"D:20120813113002+05'30'\", 'creationDate': \"D:20120508151052+05'30'\", 'page': 3}, page_content='WORKING GROUP OF THE FIRST EDITION\\nNational Institute of Nutrition\\nHyderabad\\nDr.Kamala Krishnaswamy\\nDirector\\nDr.Bhaskaram P.\\nDeputy Director (Sr. Grade)\\nDr.Bhat RV.\\nDeputy Director (Sr. Grade)\\nDr. Ghafoorunissa\\nDeputy Director (Sr. Grade)\\nDr. Raghuram TC.\\nDeputy Director (Sr. Grade)\\nDr. Raghuramulu N.\\nDeputy Director (Sr. Grade)\\nDr. Sivakumar B.\\nDeputy Director (Sr. Grade)\\nDr.Vijayaraghavan K.\\nDeputy Director (Sr. Grade)\\nAssistance rendered by Dr.Damayanthi K, \\nMr. Pulkit Mathur, Ms. Sujatha T, Ms. Uma Nayak\\nDr. Vasanthi S and Dr. Vijayalakshmi K, in the \\npreparation of Annexures is gratefully acknowledged.\\nChairperson\\nMembers'),\n",
       " Document(metadata={'producer': 'eDocument Library version 2.6 PDF Filter', 'creator': 'Corel PDF Fusion v1.0', 'creationdate': '2012-05-08T15:10:52+05:30', 'source': 'pdf_data\\\\DietaryGuidelinesforNINwebsite.pdf', 'file_path': 'pdf_data\\\\DietaryGuidelinesforNINwebsite.pdf', 'total_pages': 139, 'format': 'PDF 1.5', 'title': '', 'author': '', 'subject': '', 'keywords': '', 'moddate': '2012-08-13T11:30:02+05:30', 'trapped': '', 'modDate': \"D:20120813113002+05'30'\", 'creationDate': \"D:20120508151052+05'30'\", 'page': 4}, page_content='EXPERT ADVISORY GROUP OF THE FIRST EDITION\\nDr. Achaya KT.                                                     Dr. Rajammal P Devadas\\nCSIR Emeritus-Scientist                                     Chancellor\\nBangalore                                                      \\nAvinashalingam deemed University\\n   \\nCoimbatore\\nDr. Bamji. Mahtab S.                                         \\nDr. Ramachandran A.\\nFormer Director-Grade Scientist, NIN              \\nDiabetes research Centre\\nICMR Emeritus scientist\\nChennai\\nHyderabad\\nDr. Bhan MK.                                                      Dr. Rao MV\\nAdditional Professor                                   \\nFormer Vice-Chancellor\\nAll India Institute of Medical Sciences         \\nA.P.Agricultural University\\nNew Delhi                                                    \\nHyderabad\\nDr. Leela Raman                                             \\nDr. Srinath Reddy K.\\nFormer Deputy Director (Sr.Grade), NIN      \\nProf. Cardiology\\nHyderabad                                 \\nAll India Institute of Medical Sciences\\nNew Delhi\\nDr. Mary Mammen                                          \\nDr. Subhadra Seshadri\\nChief Dietitian\\nHead, Dept. of Food & Nutrition\\nChristian Medical College & Hospital         \\nM.S. University\\nVellore                                                      \\nBaroda\\nDr. Narasinga Rao BS.                             \\nDr. Sushma Sharma\\nFormer Director, NIN     \\nReader in Nutrition\\nHyderabad \\nLady Irwin College\\nNew Delhi\\nDr. Pralhad Rao N.\\nDr. Vinodini Reddy\\nFormer Deputy Director (Sr.Grade), NIN\\nFormer Director, NIN\\nHyderabad  \\nHyderabad\\nDr. Prema Ramchandran                \\nAdviser (Health)\\nPlanning Commission\\nNew Delhi'),\n",
       " Document(metadata={'producer': 'eDocument Library version 2.6 PDF Filter', 'creator': 'Corel PDF Fusion v1.0', 'creationdate': '2012-05-08T15:10:52+05:30', 'source': 'pdf_data\\\\DietaryGuidelinesforNINwebsite.pdf', 'file_path': 'pdf_data\\\\DietaryGuidelinesforNINwebsite.pdf', 'total_pages': 139, 'format': 'PDF 1.5', 'title': '', 'author': '', 'subject': '', 'keywords': '', 'moddate': '2012-08-13T11:30:02+05:30', 'trapped': '', 'modDate': \"D:20120813113002+05'30'\", 'creationDate': \"D:20120508151052+05'30'\", 'page': 5}, page_content='WORKING GROUP OF THE SECOND EDITION\\nNational Institute of Nutrition\\nHyderabad\\nDr. Kamala Krishnaswamy\\n..\\nChairperson\\nFormer Director, NIN\\nDr.B.Sesikeran\\n..\\nCo-Chairperson\\n Director, NIN\\nMembers\\nDr.A.Laxmaiah\\nDr.A.Vajreswari\\nDr.B.A.Ramalaxmi\\nMr.Anil Kumar Dube\\nDr.D.Raghunatha Rao\\n..\\nConvener\\nDr.Ghafoorunissa\\nDr.GNV.Brahmam\\n..\\nMember Secretary\\nDr.J.Padmaja\\nDr.Arjun L. Khandare\\nDr.Bharathi Kulkarni\\nDr.K.Damayanthi\\nDr.KV.Radhakrishna\\nDr. M. Radhika\\nDr.N.Arlappa\\nDr. Kalpagam Polasa\\nDr.Rita Saxena\\nDr.V.Sudershan Rao \\nDr.Y.Venkataramana\\nAssistance rendered by the artist Mr. S. Devendran in designing the revised edition; \\nMr.P.S. Ramarao for technical assistance; Mr. B. Omprakash, Mr. N. Satyanarayana \\nand Mr. V. Bhuvaneswaran of the Printing Division, NIN is gratefully acknowledged.')]"
      ]
     },
     "execution_count": 6,
     "metadata": {},
     "output_type": "execute_result"
    }
   ],
   "source": [
    "chunks = text_splitter.split_documents(docs)\n",
    "chunks[:5]"
   ]
  },
  {
   "cell_type": "code",
   "execution_count": 8,
   "id": "20de3212",
   "metadata": {},
   "outputs": [
    {
     "data": {
      "text/plain": [
       "1433"
      ]
     },
     "execution_count": 8,
     "metadata": {},
     "output_type": "execute_result"
    }
   ],
   "source": [
    "len(chunks)"
   ]
  },
  {
   "cell_type": "code",
   "execution_count": 1,
   "id": "ae7b0688",
   "metadata": {},
   "outputs": [
    {
     "name": "stderr",
     "output_type": "stream",
     "text": [
      "d:\\ML_DL_Project\\NLP\\p5\\llm_chat_1\\Lib\\site-packages\\tqdm\\auto.py:21: TqdmWarning: IProgress not found. Please update jupyter and ipywidgets. See https://ipywidgets.readthedocs.io/en/stable/user_install.html\n",
      "  from .autonotebook import tqdm as notebook_tqdm\n"
     ]
    }
   ],
   "source": [
    "from langchain_ollama import OllamaEmbeddings\n",
    "from langchain_community.vectorstores import Chroma\n",
    "from langchain_huggingface import HuggingFaceEmbeddings\n",
    "\n",
    "\n",
    "# embed = OllamaEmbeddings(\n",
    "#     model=\"nomic-embed-text\"\n",
    "# )\n",
    "\n",
    "\n",
    "\n",
    "model_name = \"sentence-transformers/all-MiniLM-L6-v2\"  # or \"all-mpnet-base-v2\"\n",
    "\n",
    "hf_embed = HuggingFaceEmbeddings(\n",
    "    model_name=model_name,\n",
    "    model_kwargs={\"device\": \"cpu\"},       # \"cuda\" if you have a GPU\n",
    "    encode_kwargs={\"normalize_embeddings\": False}\n",
    ")\n"
   ]
  },
  {
   "cell_type": "code",
   "execution_count": 9,
   "id": "b8850f1b",
   "metadata": {},
   "outputs": [],
   "source": [
    "db = Chroma.from_documents(\n",
    "    documents=chunks,\n",
    "    embedding=hf_embed,\n",
    "    persist_directory=\"chroma_dbase\" \n",
    ")"
   ]
  },
  {
   "cell_type": "code",
   "execution_count": 28,
   "id": "dface573",
   "metadata": {},
   "outputs": [],
   "source": [
    "query = 'vitamins A benifits'\n",
    "results = db.similarity_search(query,k=1)"
   ]
  },
  {
   "cell_type": "code",
   "execution_count": 29,
   "id": "1e763843",
   "metadata": {},
   "outputs": [
    {
     "name": "stdout",
     "output_type": "stream",
     "text": [
      "Vitamins \n",
      "HRPIPER\n",
      "Page 4 \n",
      " \n",
      " \n",
      "Physiological role of Vit A: \n",
      " \n",
      " \n",
      "Vitamin A in Vision: \n",
      " Helps to maintain the cornea \n",
      " Conversion of light energy into nerve impulses at the retina \n",
      " Rhodopsin is a light-sensitive pigment of the retina that contains a protein \n",
      "called opsin. \n",
      " \n",
      "Vitamin A in Protein Synthesis and Cell Differentiation: \n",
      " \n",
      "Through cell differentiation, vitamin A allows cells to perform specific functions i.e \n",
      "Epithelium of skin and mucus membrane (outside of the body form the skin and on the inside of \n",
      "the body form the mucous membrane). \n",
      " \n",
      "Vitamin A in Reproduction and Growth \n",
      " \n",
      " Sperm development in men \n",
      " Normal fetal development in women \n",
      " Growth in children \n",
      " Remodeling of the bone involves osteclasts, osteoblasts, and lysosomes. \n",
      " \n",
      " \n",
      "Vitamin A in Immunity \n",
      " \n",
      "Vita A has been shown to induce production of regulatory T cells that help dampen the immune \n",
      "response to self and foreign antigen. \n",
      " \n",
      "Beta-Carotene as an Antioxidant \n",
      " \n",
      "Beta-carotene helps protect the body from diseases, including cancer.\n"
     ]
    }
   ],
   "source": [
    "for i in results:\n",
    "    print(i.page_content)"
   ]
  },
  {
   "cell_type": "code",
   "execution_count": 30,
   "id": "d66f7d07",
   "metadata": {},
   "outputs": [
    {
     "data": {
      "text/plain": [
       "Ollama(model='gemma3:1b')"
      ]
     },
     "execution_count": 30,
     "metadata": {},
     "output_type": "execute_result"
    }
   ],
   "source": [
    "#  gemma3:1b\n",
    "from langchain_community.llms import Ollama\n",
    "\n",
    "llm = Ollama(model=\"gemma3:1b\")\n",
    "llm"
   ]
  },
  {
   "cell_type": "code",
   "execution_count": 46,
   "id": "f0c8fe3f",
   "metadata": {},
   "outputs": [],
   "source": [
    "from langchain_core.prompts import ChatPromptTemplate\n",
    "\n",
    "prompt = ChatPromptTemplate.from_template(\n",
    "    \"\"\"\n",
    "    You are a Nutrition assistant.\n",
    "    Provide a detailed, helpful answer.\n",
    "    no more than 150 words.\n",
    "    <context>\n",
    "    {context}\n",
    "    </context>\n",
    "\n",
    "    Question: {input}\n",
    "    \"\"\"\n",
    ")\n",
    "\n",
    "\n",
    "from langchain.chains.combine_documents import create_stuff_documents_chain\n",
    "\n",
    "document_chain = create_stuff_documents_chain(llm, prompt)\n",
    "\n",
    "\n",
    "retriever = db.as_retriever()\n",
    "\n",
    "from langchain.chains import create_retrieval_chain\n",
    "\n",
    "retrieval_chain = create_retrieval_chain(retriever, document_chain)\n",
    "\n"
   ]
  },
  {
   "cell_type": "code",
   "execution_count": 47,
   "id": "0d14f69a",
   "metadata": {},
   "outputs": [
    {
     "name": "stdout",
     "output_type": "stream",
     "text": [
      "{'input': 'benefits of vitamin C', 'context': [Document(metadata={'keywords': '', 'creator': 'Microsoft® PowerPoint® 2013', 'page': 8, 'format': 'PDF 1.5', 'trapped': '', 'title': 'HEALTH BENEFITS OF FRUITS AND VEGETABLES', 'creationDate': \"D:20170821185257+05'30'\", 'creationdate': '2017-08-21T18:52:57+05:30', 'modDate': \"D:20170821185257+05'30'\", 'subject': '', 'file_path': 'pdf_data\\\\Health benifit of fruits & vegetable.pdf', 'total_pages': 24, 'producer': 'Microsoft® PowerPoint® 2013', 'source': 'pdf_data\\\\Health benifit of fruits & vegetable.pdf', 'moddate': '2017-08-21T18:52:57+05:30', 'author': 'all'}, page_content='Health benefits and nutrient contribution of some of\\nthe fruits and vegetables.\\nName of the\\nfruit\\nNutrient\\ncontribution\\nHealth benefits\\nAmla\\nGood\\nsource\\nof\\nvitamin C\\n\\uf0d8Help as strong antioxidant\\n\\uf0d8Helps in iron absorption\\nApple\\nHigh\\nin\\nsoluble\\nfibre and pectin\\nReduce blood cholesterol (LDL)\\n\\uf0d8Counters constipation and diarrhoea\\n\\uf0d8Traditionally believed in control of arthritis,\\nrheumatism and gout. Improves digestion\\nand absorption. It also improves defence\\nmechanism against illness.\\nApricot\\nGood sources of\\nvitamin\\nC\\nand\\ncarotenoid\\nLower risk of heart diseases\\n\\uf0d8Stroke, cataract\\n\\uf0d8Reduced formation of cancer\\n\\uf0d8Steadies blood sugar level\\n\\uf0d8Reduced iron def. anaemia'), Document(metadata={'total_pages': 21, 'subject': '', 'source': 'pdf_data\\\\vitamins-notes.pdf', 'page': 18, 'moddate': '2024-02-26T15:06:53+05:30', 'author': 'SGM', 'trapped': '', 'creationDate': \"D:20240226150653+05'30'\", 'format': 'PDF 1.5', 'title': 'Vitamins', 'producer': 'Microsoft® Word 2010', 'creationdate': '2024-02-26T15:06:53+05:30', 'file_path': 'pdf_data\\\\vitamins-notes.pdf', 'modDate': \"D:20240226150653+05'30'\", 'creator': 'Microsoft® Word 2010', 'keywords': ''}, page_content='Vitamins \\nHRPIPER\\nPage 19 \\n \\n \\n \\n \\n \\n \\nChemical Name:  Ascorbic Acid. \\n \\n \\n \\n \\n \\nPhysiological Role of Vita C: \\n \\n1) It regulates redox potential inside the cell. \\n2) It is involved in the Tyrosine metabolism. \\n3) It helps in the wound repair. \\n4) It is required in the formation and maturation of red cells. \\n5) It helps in absorption of iron from intestine. \\n \\nDeficiency Manifestations of Vita C…. \\nVita C deficiency leads to Scurvy and symptoms are \\n1) Internal Hemorrhage \\n2) Gums swollen and bleeding \\n3) Malformation of bones \\n4) Poor wound healing \\nVitamin C'), Document(metadata={'creationdate': '2012-05-08T15:10:52+05:30', 'format': 'PDF 1.5', 'subject': '', 'file_path': 'pdf_data\\\\DietaryGuidelinesforNINwebsite.pdf', 'page': 51, 'moddate': '2012-08-13T11:30:02+05:30', 'creator': 'Corel PDF Fusion v1.0', 'source': 'pdf_data\\\\DietaryGuidelinesforNINwebsite.pdf', 'creationDate': \"D:20120508151052+05'30'\", 'author': '', 'producer': 'eDocument Library version 2.6 PDF Filter', 'title': '', 'keywords': '', 'total_pages': 139, 'trapped': '', 'modDate': \"D:20120813113002+05'30'\"}, page_content='Vitamin A\\nVitamin C\\nFolic acid\\nCalories\\nThis fat-soluble vitamin is necessary for clear vision in dim light, and for \\nmaintaining the integrity of epithelial tissues. In vitamin A deficiency, the white of the \\neye (conjunctiva) loses its luster and becomes dry. In severe vitamin A deficiency, \\nthe black area of the eye (cornea) gets necrosed, leading to irreversible blindness in \\nyoung children. Vitamin A also has a role in maintaining resistance of the body to \\ncommon infections. Carotenoids are plentiful in fruits and vegetables that are green \\nor deep yellow/orange in colour, such as green leafy vegetables, carrots, tomatoes, \\nsweet potatoes, papaya, mango etc.\\nVitamin C is an essential nutrient required for healthy bones and teeth. It also \\npromotes iron absorption. Vitamin C deficiency is characterised by weakness,  \\nbleeding gums and defective bone growth. Vitamin C is abundantly available in \\nfresh amla, citrus fruits, guava, banana and certain vegetables such as tomatoes. \\nHowever, it is very susceptible to destruction by atmospheric oxidation. It is for this \\nreason that when vegetables become dry and stale or cut and exposed to air most of \\nthe vitamin C originally present in destroyed.\\nFolic acid is a haemopoietic vitamin essential for multiplication and maturation of \\nred cells in our body. Its deficiency leads to megaloblastic anaemias. Folic acid \\nintake during pregnancy protects the foetus from developing certain congenital \\ndefects. It also promotes the birth weight of infants. Folic acid deficiency increases \\nhomocysteine levels in blood, thereby increasing the risk for heart disease. Green \\nleafy vegetables, legumes, nuts and liver are good sources of folates. \\nMany of the vegetables and fruits have low calories (Annexure 6). Large intake \\nof low calorie vegetables and fruits can help in reducing calories in diet and help in \\nobesity management. On the other hand vegetables like colocasia, potato, tapioca,'), Document(metadata={'title': 'HEALTH BENEFITS OF FRUITS AND VEGETABLES', 'file_path': 'pdf_data\\\\Health benifit of fruits & vegetable.pdf', 'total_pages': 24, 'producer': 'Microsoft® PowerPoint® 2013', 'format': 'PDF 1.5', 'author': 'all', 'keywords': '', 'creator': 'Microsoft® PowerPoint® 2013', 'subject': '', 'creationDate': \"D:20170821185257+05'30'\", 'creationdate': '2017-08-21T18:52:57+05:30', 'source': 'pdf_data\\\\Health benifit of fruits & vegetable.pdf', 'modDate': \"D:20170821185257+05'30'\", 'page': 18, 'trapped': '', 'moddate': '2017-08-21T18:52:57+05:30'}, page_content='Name of the \\nfruit\\nNutrient contribution\\nHealth benefits\\nStrawberry \\nThey are rich in vitamin \\nC, folic acid and fibre and \\nno fat \\n\\uf0d8Diuretic and excellent effect on kidney \\n\\uf0d8Used to relieve rheumatism gout \\nSweet potato \\nGood source of \\ncarbohydrate contains \\nvitamin C\\n\\uf0d8It can be used as staple food. Helps in the \\nregulation of body function \\n\\uf0d8It can be used as baby food as it is easily \\ndigestible \\nTomato \\nIt is good source of \\nantioxidant. High in folic \\nacid. It is the richest of all \\nfoods in vitamins (like A, \\nB, C)\\n\\uf0d8It help in better vision\\n\\uf0d8It helps to fight against infection \\n\\uf0d8Helps to maintain body lining\\n\\uf0d8Helps in bone growth\\n\\uf0d8Helps to improve reproductive function \\n\\uf0d8Helps in cell development \\n\\uf0d8Reduce the risk of heart disease\\n\\uf0d8It is powerful to fight against cardiovascular \\ndiseases\\n\\uf0d8Vitamin K in tomatoes helps to prevent \\nhemorrhages  \\nWater melon \\nIt contain energy and \\ncarotenoid \\n\\uf0d8It act as anatioxidant reduce the risk of \\ndiseases')], 'answer': \"Okay, here's a detailed answer about the benefits of Vitamin C, based on the provided text:\\n\\n**Vitamin C – A Powerful Nutrient with Numerous Benefits**\\n\\nVitamin C is an essential nutrient that plays a vital role in numerous bodily functions. Here’s a breakdown of its key benefits, as highlighted in the text:\\n\\n*   **Antioxidant Properties:** Vitamin C is a powerful antioxidant, helping protect your cells from damage caused by free radicals.\\n*   **Iron Absorption:** It helps in the absorption of iron from the gut, which is crucial for carrying oxygen throughout your body.\\n*   **Wound Healing:** Vitamin C aids in wound repair by supporting cell growth and strengthening the body's immune response.\\n*   **Bone and Teeth Health:** It’s essential for maintaining strong bones and teeth, and contributes to overall bone health.\\n*   **Blood Sugar Regulation:** Vitamin C helps to stabilize blood sugar levels, which is beneficial for preventing diabetes.\\n*   **Vision Improvement:** Vitamin C contributes to better vision by aiding in light refraction.\\n*   **Folate Support:** Vitamin C helps to promote folate metabolism and is important for healthy red blood cell formation.\\n*   **Disease Prevention:** Vitamin C can help prevent many diseases, including heart disease, cancer, and infections.\\n*   **Immune System Boost:** It strengthens your immune system, helping your body fight off infections.\\n*   **Cell Development:** Vitamin C is vital for healthy cell growth and division. \\n*   **Cardiovascular Health:** It helps reduce the risk of heart disease and helps prevent cardiovascular diseases.\\n\\n**In short, Vitamin C is a multi-faceted nutrient that supports overall health and well-being.**\\n\\nDo you want me to elaborate on any of these benefits or provide more information?\"}\n"
     ]
    }
   ],
   "source": [
    "result = retrieval_chain.invoke({'input': 'benefits of vitamin C'})\n",
    "\n",
    "print(result)\n"
   ]
  },
  {
   "cell_type": "code",
   "execution_count": 48,
   "id": "e9eea9a4",
   "metadata": {},
   "outputs": [
    {
     "name": "stdout",
     "output_type": "stream",
     "text": [
      "Okay, here's a detailed answer about the benefits of Vitamin C, based on the provided text:\n",
      "\n",
      "**Vitamin C – A Powerful Nutrient with Numerous Benefits**\n",
      "\n",
      "Vitamin C is an essential nutrient that plays a vital role in numerous bodily functions. Here’s a breakdown of its key benefits, as highlighted in the text:\n",
      "\n",
      "*   **Antioxidant Properties:** Vitamin C is a powerful antioxidant, helping protect your cells from damage caused by free radicals.\n",
      "*   **Iron Absorption:** It helps in the absorption of iron from the gut, which is crucial for carrying oxygen throughout your body.\n",
      "*   **Wound Healing:** Vitamin C aids in wound repair by supporting cell growth and strengthening the body's immune response.\n",
      "*   **Bone and Teeth Health:** It’s essential for maintaining strong bones and teeth, and contributes to overall bone health.\n",
      "*   **Blood Sugar Regulation:** Vitamin C helps to stabilize blood sugar levels, which is beneficial for preventing diabetes.\n",
      "*   **Vision Improvement:** Vitamin C contributes to better vision by aiding in light refraction.\n",
      "*   **Folate Support:** Vitamin C helps to promote folate metabolism and is important for healthy red blood cell formation.\n",
      "*   **Disease Prevention:** Vitamin C can help prevent many diseases, including heart disease, cancer, and infections.\n",
      "*   **Immune System Boost:** It strengthens your immune system, helping your body fight off infections.\n",
      "*   **Cell Development:** Vitamin C is vital for healthy cell growth and division. \n",
      "*   **Cardiovascular Health:** It helps reduce the risk of heart disease and helps prevent cardiovascular diseases.\n",
      "\n",
      "**In short, Vitamin C is a multi-faceted nutrient that supports overall health and well-being.**\n",
      "\n",
      "Do you want me to elaborate on any of these benefits or provide more information?\n"
     ]
    }
   ],
   "source": [
    "print(result['answer'])"
   ]
  },
  {
   "cell_type": "code",
   "execution_count": 42,
   "id": "608c601e",
   "metadata": {},
   "outputs": [],
   "source": [
    "def chat_gradio(query):\n",
    "    result = result = retrieval_chain.invoke({'input': query})\n",
    "\n",
    "    return result['answer']\n"
   ]
  },
  {
   "cell_type": "code",
   "execution_count": 81,
   "id": "f259302a",
   "metadata": {},
   "outputs": [],
   "source": [
    "import gradio as gr \n",
    "\n",
    "\n",
    "with gr.Blocks(theme=gr.themes.Glass(primary_hue=\"zinc\",secondary_hue='rose',neutral_hue='zinc')) as demo:\n",
    "    gr.Markdown(\"## Chat Nutrition\")\n",
    "\n",
    "    with gr.Row():\n",
    "        user_query = gr.Textbox(\n",
    "            label=\"Search for Nutrition\",\n",
    "            placeholder=\"e.g. vitamins, minerals\",\n",
    "            scale=3\n",
    "        )\n",
    "\n",
    "        submit_button = gr.Button(value=\"Submit\")\n",
    "\n",
    "\n",
    "    gr.Markdown(\"## Info of Nutrition\")\n",
    "\n",
    "\n",
    "    out = gr.Markdown(\n",
    "        \n",
    "        value=\"Answers will appear here.\",\n",
    "        render=True,\n",
    "\n",
    "    )\n",
    "\n",
    "\n",
    "    submit_button.click(\n",
    "        fn=chat_gradio,\n",
    "        inputs=[user_query],\n",
    "        outputs=[out]\n",
    "    )\n"
   ]
  },
  {
   "cell_type": "code",
   "execution_count": 82,
   "id": "ed16b252",
   "metadata": {},
   "outputs": [
    {
     "name": "stdout",
     "output_type": "stream",
     "text": [
      "* Running on local URL:  http://127.0.0.1:7877\n",
      "* To create a public link, set `share=True` in `launch()`.\n"
     ]
    },
    {
     "data": {
      "text/html": [
       "<div><iframe src=\"http://127.0.0.1:7877/\" width=\"100%\" height=\"500\" allow=\"autoplay; camera; microphone; clipboard-read; clipboard-write;\" frameborder=\"0\" allowfullscreen></iframe></div>"
      ],
      "text/plain": [
       "<IPython.core.display.HTML object>"
      ]
     },
     "metadata": {},
     "output_type": "display_data"
    },
    {
     "data": {
      "text/plain": []
     },
     "execution_count": 82,
     "metadata": {},
     "output_type": "execute_result"
    }
   ],
   "source": [
    "demo.launch()"
   ]
  },
  {
   "cell_type": "code",
   "execution_count": null,
   "id": "fde40d0e",
   "metadata": {},
   "outputs": [],
   "source": []
  }
 ],
 "metadata": {
  "kernelspec": {
   "display_name": "Python 3",
   "language": "python",
   "name": "python3"
  },
  "language_info": {
   "codemirror_mode": {
    "name": "ipython",
    "version": 3
   },
   "file_extension": ".py",
   "mimetype": "text/x-python",
   "name": "python",
   "nbconvert_exporter": "python",
   "pygments_lexer": "ipython3",
   "version": "3.12.0"
  }
 },
 "nbformat": 4,
 "nbformat_minor": 5
}
